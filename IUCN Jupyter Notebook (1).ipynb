{
 "cells": [
  {
   "cell_type": "code",
   "execution_count": null,
   "id": "45ffdddd",
   "metadata": {},
   "outputs": [
    {
     "ename": "",
     "evalue": "",
     "output_type": "error",
     "traceback": [
      "\u001b[1;31mThe kernel failed to start as a dll could not be loaded.\n",
      "\u001b[1;31mClick <a href='https://aka.ms/kernelFailuresDllLoad'>here</a> for more info."
     ]
    }
   ],
   "source": [
    "# IUCN Data wrangling and visualization project\n",
    "# Jupyter Notebook for data Wrangling and Visualization\n",
    "\n",
    "# Step 1: Import necessary libraries\n",
    "import pandas as pd\n",
    "import matplotlib.pyplot as plt\n",
    "\n",
    "# Define folder locations (makes it easy to reuse/change later)\n",
    "DATA_DIR = \"data/\"\n",
    "FIG_DIR = \"figures/\"\n",
    "\n",
    "# Step 2: Read original CSV files into pandas DataFrames\n",
    "# These files were exported from the Marine Mammals Global Species Database spreadsheet\n",
    "hierarchy_df = pd.read_csv(DATA_DIR + 'IUCNHierarchyAndExtinction.csv')\n",
    "country_occurrences_df = pd.read_csv(DATA_DIR + 'IUCNSpeciesCountryOccurrences.csv')\n",
    "\n",
    "# Step 3: Create a new table for families\n",
    "families_df = hierarchy_df[['family']].drop_duplicates().dropna()\n",
    "families_df = families_df.rename(columns={'family': 'family_name'})\n",
    "\n",
    "# Step 4: Create a table for genus information\n",
    "genus_df = hierarchy_df[['genus', 'family']].drop_duplicates().dropna()\n",
    "genus_df = genus_df.rename(columns={'genus': 'genus_name', 'family': 'family_name'})\n",
    "\n",
    "# Step 5: Create a table for species\n",
    "species_df = hierarchy_df[['taxonid', 'genus', 'species', 'friendly_name', 'category']].drop_duplicates().dropna()\n",
    "species_df = species_df.rename(columns={\n",
    "    'genus': 'genus_name',\n",
    "    'species': 'scientific_name'\n",
    "})\n",
    "\n",
    "# Step 6: Create a table for country occurrences\n",
    "country_occurrences_clean_df = country_occurrences_df[['taxonid', 'countryoccurrencelookup_value']].drop_duplicates().dropna()\n",
    "country_occurrences_clean_df = country_occurrences_clean_df.rename(columns={'countryoccurrencelookup_value': 'country'})\n",
    "\n",
    "# Step 7: Save the cleaned tables as new CSV files (into data/ folder)\n",
    "families_df.to_csv(DATA_DIR + 'families.csv', index=False)\n",
    "genus_df.to_csv(DATA_DIR + 'genus.csv', index=False)\n",
    "species_df.to_csv(DATA_DIR + 'species.csv', index=False)\n",
    "country_occurrences_clean_df.to_csv(DATA_DIR + 'country_occurrences.csv', index=False)\n",
    "\n",
    "# Step 8: Load the SQL query result for threatened species per family\n",
    "# This was generated using UPPER(TRIM(REPLACE(REPLACE(s.category, '\\r', ''), '\\n', ''))) IN ('CR', 'EN', 'VU')\n",
    "threatened_df = pd.read_csv(DATA_DIR + 'threatened_species_by_family.csv')\n",
    "\n",
    "# Step 9: Clean family names of hidden characters (like \\r, \\n)\n",
    "threatened_df['family_name'] = threatened_df['family_name'].str.replace(r'[\\r\\n]+', '', regex=True).str.strip()\n",
    "\n",
    "# Step 10: Sort the result for better readability\n",
    "threatened_df = threatened_df.sort_values('threatened_species_count', ascending=False)\n",
    "\n",
    "# Step 11: Plot the result as a Pie Chart with raw counts and save to file\n",
    "plt.figure(figsize=(10, 8))\n",
    "labels_with_counts = [f\"{name} ({count})\" for name, count in zip(threatened_df['family_name'], threatened_df['threatened_species_count'])]\n",
    "plt.pie(threatened_df['threatened_species_count'], labels=labels_with_counts, autopct='%1.1f%%')\n",
    "plt.title('Distribution of Threatened Species per Family (CR, EN, VU)')\n",
    "plt.axis('equal')\n",
    "plt.tight_layout()\n",
    "plt.savefig(FIG_DIR + 'threatened_species_pie_chart.png')  # Save the chart as a PNG file\n",
    "plt.show()\n",
    "\n"
   ]
  },
  {
   "cell_type": "code",
   "execution_count": null,
   "id": "b5fbe610-fcbf-43ac-993c-a19c1c2505d2",
   "metadata": {},
   "outputs": [],
   "source": []
  }
 ],
 "metadata": {
  "kernelspec": {
   "display_name": "base",
   "language": "python",
   "name": "python3"
  },
  "language_info": {
   "codemirror_mode": {
    "name": "ipython",
    "version": 3
   },
   "file_extension": ".py",
   "mimetype": "text/x-python",
   "name": "python",
   "nbconvert_exporter": "python",
   "pygments_lexer": "ipython3",
   "version": "3.12.7"
  }
 },
 "nbformat": 4,
 "nbformat_minor": 5
}
